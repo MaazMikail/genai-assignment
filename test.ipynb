{
 "cells": [
  {
   "cell_type": "code",
   "execution_count": 31,
   "id": "35629f06",
   "metadata": {},
   "outputs": [],
   "source": [
    "from agents import function_tool, RunContextWrapper, Agent, Runner\n",
    "import pandas as pd\n",
    "import os\n",
    "from pydantic import BaseModel\n",
    "from dotenv import load_dotenv\n",
    "load_dotenv()\n",
    "api_key = os.environ.get(\"OPENAI_API_KEY\")\n",
    "\n",
    "if not api_key:\n",
    "    raise ValueError(\"OPENAI_API_KEY is not set in the environment variables\")"
   ]
  },
  {
   "cell_type": "code",
   "execution_count": 49,
   "id": "978e0a35",
   "metadata": {},
   "outputs": [],
   "source": [
    "from tools.order_api import get_order_status, CustomerContext"
   ]
  },
  {
   "cell_type": "code",
   "execution_count": 40,
   "id": "a4feb7c6",
   "metadata": {},
   "outputs": [],
   "source": [
    "class CustomerContext(BaseModel):\n",
    "    customer_id: str \n",
    "    customer_name: str | None = None\n",
    "    "
   ]
  },
  {
   "cell_type": "code",
   "execution_count": 50,
   "id": "068be71c",
   "metadata": {},
   "outputs": [],
   "source": [
    "orders = pd.read_json(\"tools/dummy_orders.json\")"
   ]
  },
  {
   "cell_type": "code",
   "execution_count": 45,
   "id": "a040e9f3",
   "metadata": {},
   "outputs": [],
   "source": [
    "@function_tool\n",
    "def get_order_status(context: RunContextWrapper[CustomerContext]):\n",
    "    result = orders[orders[\"customer_id\"] == context.context.customer_id]\n",
    "\n",
    "    return result.to_dict(orient=\"records\")[0]"
   ]
  },
  {
   "cell_type": "code",
   "execution_count": 46,
   "id": "33604b43",
   "metadata": {},
   "outputs": [],
   "source": [
    "cust = CustomerContext(customer_id=\"cust_001\", customer_name=\"Maaz\")\n"
   ]
  },
  {
   "cell_type": "code",
   "execution_count": 42,
   "id": "d2621a88",
   "metadata": {},
   "outputs": [
    {
     "data": {
      "text/plain": [
       "'cust_001'"
      ]
     },
     "execution_count": 42,
     "metadata": {},
     "output_type": "execute_result"
    }
   ],
   "source": [
    "cust.customer_id"
   ]
  },
  {
   "cell_type": "code",
   "execution_count": 47,
   "id": "1273de53",
   "metadata": {},
   "outputs": [],
   "source": [
    "tracking_agent = Agent(\n",
    "    name=\"Tracking Agent\",\n",
    "    model=\"gpt-4o-mini\",\n",
    "    instructions=\"You are a tracking agent and your job is to track the order status, you can use the tools provided to get the order status.\",\n",
    "    tools=[\n",
    "        get_order_status\n",
    "    ]\n",
    ")"
   ]
  },
  {
   "cell_type": "code",
   "execution_count": 48,
   "id": "5ea1ec03",
   "metadata": {},
   "outputs": [
    {
     "name": "stdout",
     "output_type": "stream",
     "text": [
      "Your order status is *Shipped*. Here are the details:\n",
      "\n",
      "- **Order ID:** ORD1001\n",
      "- **Customer ID:** cust_001\n",
      "- **Order Date:** May 15, 2025\n",
      "- **Items:** \n",
      "  - Wireless Mouse\n",
      "  - USB-C Adapter\n"
     ]
    }
   ],
   "source": [
    "text = \"What is the status of my order?\"\n",
    "result = await Runner.run(tracking_agent, input=text, context=cust)\n",
    "print(result.final_output)"
   ]
  },
  {
   "cell_type": "code",
   "execution_count": 51,
   "id": "bbf9eee3",
   "metadata": {},
   "outputs": [],
   "source": [
    "# rag \n",
    "\n",
    "from langchain_openai import ChatOpenAI\n"
   ]
  },
  {
   "cell_type": "code",
   "execution_count": 134,
   "id": "cc14230d",
   "metadata": {},
   "outputs": [],
   "source": [
    "from langchain.text_splitter import RecursiveCharacterTextSplitter\n",
    "documents = loader.load()\n",
    "\n",
    "# Step 2: Split into fixed-size chunks\n",
    "splitter = RecursiveCharacterTextSplitter(\n",
    "    chunk_size=500,\n",
    "    chunk_overlap=10\n",
    ")\n",
    "chunks = splitter.split_documents(pages)"
   ]
  },
  {
   "cell_type": "code",
   "execution_count": 135,
   "id": "9bcfb211",
   "metadata": {},
   "outputs": [
    {
     "data": {
      "text/plain": [
       "11"
      ]
     },
     "execution_count": 135,
     "metadata": {},
     "output_type": "execute_result"
    }
   ],
   "source": [
    "len(chunks)"
   ]
  },
  {
   "cell_type": "code",
   "execution_count": 129,
   "id": "e127a7d6",
   "metadata": {},
   "outputs": [
    {
     "data": {
      "text/plain": [
       "Document(metadata={'producer': 'Microsoft® Word for Microsoft 365', 'creator': 'Microsoft® Word for Microsoft 365', 'creationdate': '2025-05-24T23:58:07+05:00', 'msip_label_0886e226-cfd0-4c2d-b2ff-bd9be0eaa4b4_enabled': 'true', 'msip_label_0886e226-cfd0-4c2d-b2ff-bd9be0eaa4b4_setdate': '2025-05-24T18:57:26Z', 'msip_label_0886e226-cfd0-4c2d-b2ff-bd9be0eaa4b4_method': 'Standard', 'msip_label_0886e226-cfd0-4c2d-b2ff-bd9be0eaa4b4_name': 'Internal', 'msip_label_0886e226-cfd0-4c2d-b2ff-bd9be0eaa4b4_siteid': '5764b349-a60c-4df1-8cf5-62d06dd5b2c3', 'msip_label_0886e226-cfd0-4c2d-b2ff-bd9be0eaa4b4_actionid': '30ecf6cd-eb01-4539-b679-9d325835b9a2', 'msip_label_0886e226-cfd0-4c2d-b2ff-bd9be0eaa4b4_contentbits': '0', 'msip_label_0886e226-cfd0-4c2d-b2ff-bd9be0eaa4b4_tag': '10, 3, 0, 1', 'author': 'python-docx', 'moddate': '2025-05-24T23:58:07+05:00', 'source': 'data/Dummy_Return_Policy.pdf', 'total_pages': 3, 'page': 0, 'page_label': '1'}, page_content='Return Policy for E-commerce Platform \\n1. Overview \\nThis return policy outlines the terms and conditions under which customers may return \\nproducts purchased from our e-commerce platform. Our aim is to provide a transparent and \\nfair return process that ensures customer satisfaction while maintaining operational \\nefficiency. Customers are encouraged to review this policy before making a return request. \\n2. Eligibility for Returns \\n2.1 Timeframe')"
      ]
     },
     "execution_count": 129,
     "metadata": {},
     "output_type": "execute_result"
    }
   ],
   "source": [
    "chunks[0]"
   ]
  },
  {
   "cell_type": "code",
   "execution_count": 115,
   "id": "bd039bc1",
   "metadata": {},
   "outputs": [
    {
     "data": {
      "text/plain": [
       "Document(metadata={}, page_content='y')"
      ]
     },
     "execution_count": 115,
     "metadata": {},
     "output_type": "execute_result"
    }
   ],
   "source": [
    "chunks[12]"
   ]
  },
  {
   "cell_type": "code",
   "execution_count": 98,
   "id": "5107e86c",
   "metadata": {},
   "outputs": [],
   "source": [
    "from langchain.embeddings import OpenAIEmbeddings\n",
    "\n",
    "# Use OpenAI's embedding model\n",
    "embedding_model = OpenAIEmbeddings()  # Uses API key from env"
   ]
  },
  {
   "cell_type": "code",
   "execution_count": 99,
   "id": "21919089",
   "metadata": {},
   "outputs": [],
   "source": [
    "def sanitize_metadata(documents):\n",
    "    for doc in documents:\n",
    "        for key, value in doc.metadata.items():\n",
    "            if isinstance(value, list):\n",
    "                # Convert lists to comma-separated strings\n",
    "                doc.metadata[key] = \", \".join(map(str, value))\n",
    "            elif not isinstance(value, (str, int, float, bool, type(None))):\n",
    "                # Drop or stringify other complex types\n",
    "                doc.metadata[key] = str(value)\n",
    "    return documents"
   ]
  },
  {
   "cell_type": "code",
   "execution_count": 92,
   "id": "b88d3326",
   "metadata": {},
   "outputs": [],
   "source": [
    "documents = sanitize_metadata(docs)"
   ]
  },
  {
   "cell_type": "code",
   "execution_count": 123,
   "id": "2f7de2a5",
   "metadata": {},
   "outputs": [
    {
     "ename": "AttributeError",
     "evalue": "'dict' object has no attribute 'page_content'",
     "output_type": "error",
     "traceback": [
      "\u001b[31m---------------------------------------------------------------------------\u001b[39m",
      "\u001b[31mAttributeError\u001b[39m                            Traceback (most recent call last)",
      "\u001b[36mCell\u001b[39m\u001b[36m \u001b[39m\u001b[32mIn[123]\u001b[39m\u001b[32m, line 4\u001b[39m\n\u001b[32m      1\u001b[39m \u001b[38;5;28;01mfrom\u001b[39;00m\u001b[38;5;250m \u001b[39m\u001b[34;01mlangchain\u001b[39;00m\u001b[34;01m.\u001b[39;00m\u001b[34;01mvectorstores\u001b[39;00m\u001b[38;5;250m \u001b[39m\u001b[38;5;28;01mimport\u001b[39;00m Chroma\n\u001b[32m      3\u001b[39m \u001b[38;5;66;03m# Save to a persistent directory\u001b[39;00m\n\u001b[32m----> \u001b[39m\u001b[32m4\u001b[39m vectorstore = \u001b[43mChroma\u001b[49m\u001b[43m.\u001b[49m\u001b[43mfrom_documents\u001b[49m\u001b[43m(\u001b[49m\u001b[43mchunks\u001b[49m\u001b[43m,\u001b[49m\u001b[43m \u001b[49m\u001b[43membedding_model\u001b[49m\u001b[43m,\u001b[49m\u001b[43m \u001b[49m\u001b[43mpersist_directory\u001b[49m\u001b[43m=\u001b[49m\u001b[33;43m\"\u001b[39;49m\u001b[33;43m./data/chroma_store\u001b[39;49m\u001b[33;43m\"\u001b[39;49m\u001b[43m)\u001b[49m\n\u001b[32m      6\u001b[39m \u001b[38;5;66;03m# Persist\u001b[39;00m\n\u001b[32m      7\u001b[39m vectorstore.persist()\n",
      "\u001b[36mFile \u001b[39m\u001b[32mc:\\Users\\PC\\Documents\\genai-assignment\\.venv\\Lib\\site-packages\\langchain_community\\vectorstores\\chroma.py:885\u001b[39m, in \u001b[36mChroma.from_documents\u001b[39m\u001b[34m(cls, documents, embedding, ids, collection_name, persist_directory, client_settings, client, collection_metadata, **kwargs)\u001b[39m\n\u001b[32m    852\u001b[39m \u001b[38;5;129m@classmethod\u001b[39m\n\u001b[32m    853\u001b[39m \u001b[38;5;28;01mdef\u001b[39;00m\u001b[38;5;250m \u001b[39m\u001b[34mfrom_documents\u001b[39m(\n\u001b[32m    854\u001b[39m     \u001b[38;5;28mcls\u001b[39m: Type[Chroma],\n\u001b[32m   (...)\u001b[39m\u001b[32m    865\u001b[39m     **kwargs: Any,\n\u001b[32m    866\u001b[39m ) -> Chroma:\n\u001b[32m    867\u001b[39m \u001b[38;5;250m    \u001b[39m\u001b[33;03m\"\"\"Create a Chroma vectorstore from a list of documents.\u001b[39;00m\n\u001b[32m    868\u001b[39m \n\u001b[32m    869\u001b[39m \u001b[33;03m    If a persist_directory is specified, the collection will be persisted there.\u001b[39;00m\n\u001b[32m   (...)\u001b[39m\u001b[32m    883\u001b[39m \u001b[33;03m        Chroma: Chroma vectorstore.\u001b[39;00m\n\u001b[32m    884\u001b[39m \u001b[33;03m    \"\"\"\u001b[39;00m\n\u001b[32m--> \u001b[39m\u001b[32m885\u001b[39m     texts = [\u001b[43mdoc\u001b[49m\u001b[43m.\u001b[49m\u001b[43mpage_content\u001b[49m \u001b[38;5;28;01mfor\u001b[39;00m doc \u001b[38;5;129;01min\u001b[39;00m documents]\n\u001b[32m    886\u001b[39m     metadatas = [doc.metadata \u001b[38;5;28;01mfor\u001b[39;00m doc \u001b[38;5;129;01min\u001b[39;00m documents]\n\u001b[32m    887\u001b[39m     \u001b[38;5;28;01mreturn\u001b[39;00m \u001b[38;5;28mcls\u001b[39m.from_texts(\n\u001b[32m    888\u001b[39m         texts=texts,\n\u001b[32m    889\u001b[39m         embedding=embedding,\n\u001b[32m   (...)\u001b[39m\u001b[32m    897\u001b[39m         **kwargs,\n\u001b[32m    898\u001b[39m     )\n",
      "\u001b[31mAttributeError\u001b[39m: 'dict' object has no attribute 'page_content'"
     ]
    }
   ],
   "source": [
    "from langchain.vectorstores import Chroma\n",
    "\n",
    "# Save to a persistent directory\n",
    "vectorstore = Chroma.from_documents(chunks, embedding_model, persist_directory=\"./data/chroma_store\")\n",
    "\n",
    "# Persist\n",
    "vectorstore.persist()"
   ]
  },
  {
   "cell_type": "code",
   "execution_count": 101,
   "id": "8f032f2f",
   "metadata": {},
   "outputs": [
    {
     "name": "stderr",
     "output_type": "stream",
     "text": [
      "INFO: HTTP Request: POST https://api.openai.com/v1/embeddings \"HTTP/1.1 200 OK\"\n"
     ]
    },
    {
     "name": "stdout",
     "output_type": "stream",
     "text": [
      "\n",
      "--- Relevant Chunk 1 ---\n",
      "accuracy. Requests made after this period may not be accepted, unless mandated by \n",
      "consumer protection laws or exceptional cases such as shipping delays or product recalls. \n",
      "2.2 Condition of Items \n",
      "Returned items must be unused, undamaged, and in a condition suitable for resale. Items \n",
      "should be ret\n",
      "\n",
      "--- Relevant Chunk 2 ---\n",
      "- Perishable goods such as food and flowers, which cannot be restocked. \n",
      "- Personalized or custom-made products, unless they are defective or damaged upon arrival. \n",
      "- Gift cards, which are considered final sale items. \n",
      "- Downloadable digital products or software, due to licensing restrictions. \n",
      "3. R\n",
      "\n",
      "--- Relevant Chunk 3 ---\n",
      "2.2 Condition of Items \n",
      "Returned items must be unused, undamaged, and in a condition suitable for resale. Items \n",
      "should be returned with the original packaging, including boxes, tags, manuals, and any \n",
      "included accessories. Products showing signs of wear, usage, or modification may not be \n",
      "eligible \n",
      "\n",
      "--- Relevant Chunk 4 ---\n",
      "limitations. These include: \n",
      "- Perishable goods such as food and flowers, which cannot be restocked. \n",
      "- Personalized or custom-made products, unless they are defective or damaged upon arrival. \n",
      "- Gift cards, which are considered final sale items. \n",
      "- Downloadable digital products or software, due to \n"
     ]
    }
   ],
   "source": [
    "retriever = vectorstore.as_retriever()\n",
    "\n",
    "query = \"non-returnable?\"\n",
    "docs = retriever.get_relevant_documents(query)\n",
    "\n",
    "for i, doc in enumerate(docs):\n",
    "    print(f\"\\n--- Relevant Chunk {i+1} ---\\n{doc.page_content[:300]}\")"
   ]
  },
  {
   "cell_type": "code",
   "execution_count": 121,
   "id": "6a3d1f68",
   "metadata": {},
   "outputs": [],
   "source": [
    "import re\n",
    "import uuid\n",
    "from typing import List, Dict\n",
    "\n",
    "def chunk_text_for_rag(text: str, max_chunk_size: int = 2000) -> List[Dict]:\n",
    "    \"\"\"\n",
    "    Split text by titles/subtitles into RAG-ready chunks with context preserved.\n",
    "\n",
    "    Args:\n",
    "        text: Full document text.\n",
    "        max_chunk_size: Optional max size per chunk (characters).\n",
    "\n",
    "    Returns:\n",
    "        List of dicts with id, metadata, and content.\n",
    "    \"\"\"\n",
    "    title_re = re.compile(r'^(?P<title>[A-Z][A-Z0-9 ,\\-]{3,})$', re.MULTILINE)\n",
    "    subtitle_re = re.compile(r'^(?P<subtitle>(\\d+[\\.\\)]|[A-Z]\\.)\\s+[A-Z][^\\n]+)$', re.MULTILINE)\n",
    "\n",
    "    matches = sorted(\n",
    "        list(title_re.finditer(text)) + list(subtitle_re.finditer(text)),\n",
    "        key=lambda m: m.start()\n",
    "    )\n",
    "\n",
    "    chunks = []\n",
    "    last_title, last_subtitle = None, None\n",
    "    last_pos = 0\n",
    "\n",
    "    for match in matches:\n",
    "        current_pos = match.start()\n",
    "        content = text[last_pos:current_pos].strip()\n",
    "        if content:\n",
    "            chunk = {\n",
    "                \"id\": str(uuid.uuid4()),\n",
    "                \"metadata\": {\n",
    "                    \"title\": last_title,\n",
    "                    \"subtitle\": last_subtitle\n",
    "                },\n",
    "                \"content\": f\"{last_title or ''}\\n{last_subtitle or ''}\\n{content}\".strip()\n",
    "            }\n",
    "            chunks.extend(split_long_chunk(chunk, max_chunk_size))\n",
    "\n",
    "        # Update context\n",
    "        if match.re == title_re:\n",
    "            last_title = match.group(\"title\")\n",
    "            last_subtitle = None\n",
    "        else:\n",
    "            last_subtitle = match.group(\"subtitle\")\n",
    "\n",
    "        last_pos = current_pos\n",
    "\n",
    "    # Final chunk\n",
    "    content = text[last_pos:].strip()\n",
    "    if content:\n",
    "        chunk = {\n",
    "            \"id\": str(uuid.uuid4()),\n",
    "            \"metadata\": {\n",
    "                \"title\": last_title,\n",
    "                \"subtitle\": last_subtitle\n",
    "            },\n",
    "            \"content\": f\"{last_title or ''}\\n{last_subtitle or ''}\\n{content}\".strip()\n",
    "        }\n",
    "        chunks.extend(split_long_chunk(chunk, max_chunk_size))\n",
    "\n",
    "    return chunks\n",
    "\n",
    "def split_long_chunk(chunk: Dict, max_size: int) -> List[Dict]:\n",
    "    \"\"\"\n",
    "    Splits a single chunk into smaller ones if it exceeds max_size.\n",
    "    \"\"\"\n",
    "    content = chunk[\"content\"]\n",
    "    if len(content) <= max_size:\n",
    "        return [chunk]\n",
    "\n",
    "    sentences = re.split(r'(?<=[.!?])\\s+', content)\n",
    "    current = \"\"\n",
    "    sub_chunks = []\n",
    "    for sent in sentences:\n",
    "        if len(current) + len(sent) + 1 <= max_size:\n",
    "            current += sent + \" \"\n",
    "        else:\n",
    "            sub_chunks.append({\n",
    "                \"id\": str(uuid.uuid4()),\n",
    "                \"metadata\": chunk[\"metadata\"],\n",
    "                \"content\": current.strip()\n",
    "            })\n",
    "            current = sent + \" \"\n",
    "    if current:\n",
    "        sub_chunks.append({\n",
    "            \"id\": str(uuid.uuid4()),\n",
    "            \"metadata\": chunk[\"metadata\"],\n",
    "            \"content\": current.strip()\n",
    "        })\n",
    "    return sub_chunks\n"
   ]
  },
  {
   "cell_type": "code",
   "execution_count": 122,
   "id": "421929fc",
   "metadata": {},
   "outputs": [],
   "source": [
    "chunks = chunk_text_for_rag(documents[0].page_content, max_chunk_size=2000)"
   ]
  },
  {
   "cell_type": "code",
   "execution_count": 124,
   "id": "346a5f88",
   "metadata": {},
   "outputs": [
    {
     "data": {
      "text/plain": [
       "[{'id': '41d9069c-a8b5-4428-9fc1-0ab878b0a80c',\n",
       "  'metadata': {'title': None, 'subtitle': None},\n",
       "  'content': 'Return Policy for E-commerce Platform'},\n",
       " {'id': '88757f0f-b62d-4223-9a5e-bb42e35dd985',\n",
       "  'metadata': {'title': None, 'subtitle': '1. Overview '},\n",
       "  'content': '1. Overview \\n1. Overview \\nThis return policy outlines the terms and conditions under which customers may return \\nproducts purchased from our e-commerce platform. Our aim is to provide a transparent and \\nfair return process that ensures customer satisfaction while maintaining operational \\nefficiency. Customers are encouraged to review this policy before making a return request.'},\n",
       " {'id': '60105542-301c-415d-9638-5e6f1bc5d657',\n",
       "  'metadata': {'title': None, 'subtitle': '2. Eligibility for Returns '},\n",
       "  'content': '2. Eligibility for Returns \\n2. Eligibility for Returns \\n2.1 Timeframe \\nReturns must be initiated within 30 calendar days from the date of delivery. This timeframe \\nensures the returned items remain in good condition and helps us maintain inventory \\naccuracy. Requests made after this period may not be accepted, unless mandated by \\nconsumer protection laws or exceptional cases such as shipping delays or product recalls. \\n2.2 Condition of Items \\nReturned items must be unused, undamaged, and in a condition suitable for resale. Items \\nshould be returned with the original packaging, including boxes, tags, manuals, and any \\nincluded accessories. Products showing signs of wear, usage, or modification may not be \\neligible for a full refund. \\n2.3 Non-returnable Items \\nCertain items are excluded from our return policy due to their nature or regulatory \\nlimitations. These include: \\n- Perishable goods such as food and flowers, which cannot be restocked. \\n- Personalized or custom-made products, unless they are defective or damaged upon arrival. \\n- Gift cards, which are considered final sale items. \\n- Downloadable digital products or software, due to licensing restrictions.'},\n",
       " {'id': 'ff3d266b-e987-43b9-9c71-db9a42cc0249',\n",
       "  'metadata': {'title': None, 'subtitle': '3. Return Process '},\n",
       "  'content': '3. Return Process \\n3. Return Process \\n3.1 Initiating a Return \\nCustomers can initiate a return by accessing our online return portal through their account \\ndashboard or by contacting our customer support agent via voice or chat. Upon verification, \\nthe agent will guide the customer through the steps required to submit a return request. \\n3.2 Information Required \\nTo process a return efficiently, customers must provide the following details: \\n- The unique order number associated with the purchase.'}]"
      ]
     },
     "execution_count": 124,
     "metadata": {},
     "output_type": "execute_result"
    }
   ],
   "source": [
    "chunks"
   ]
  },
  {
   "cell_type": "code",
   "execution_count": 130,
   "id": "63916971",
   "metadata": {},
   "outputs": [
    {
     "name": "stderr",
     "output_type": "stream",
     "text": [
      "INFO: PDF text extraction failed, skip text extraction...\n"
     ]
    },
    {
     "ename": "PDFInfoNotInstalledError",
     "evalue": "Unable to get page count. Is poppler installed and in PATH?",
     "output_type": "error",
     "traceback": [
      "\u001b[31m---------------------------------------------------------------------------\u001b[39m",
      "\u001b[31mFileNotFoundError\u001b[39m                         Traceback (most recent call last)",
      "\u001b[36mFile \u001b[39m\u001b[32mc:\\Users\\PC\\Documents\\genai-assignment\\.venv\\Lib\\site-packages\\pdf2image\\pdf2image.py:581\u001b[39m, in \u001b[36mpdfinfo_from_path\u001b[39m\u001b[34m(pdf_path, userpw, ownerpw, poppler_path, rawdates, timeout, first_page, last_page)\u001b[39m\n\u001b[32m    580\u001b[39m     env[\u001b[33m\"\u001b[39m\u001b[33mLD_LIBRARY_PATH\u001b[39m\u001b[33m\"\u001b[39m] = poppler_path + \u001b[33m\"\u001b[39m\u001b[33m:\u001b[39m\u001b[33m\"\u001b[39m + env.get(\u001b[33m\"\u001b[39m\u001b[33mLD_LIBRARY_PATH\u001b[39m\u001b[33m\"\u001b[39m, \u001b[33m\"\u001b[39m\u001b[33m\"\u001b[39m)\n\u001b[32m--> \u001b[39m\u001b[32m581\u001b[39m proc = \u001b[43mPopen\u001b[49m\u001b[43m(\u001b[49m\u001b[43mcommand\u001b[49m\u001b[43m,\u001b[49m\u001b[43m \u001b[49m\u001b[43menv\u001b[49m\u001b[43m=\u001b[49m\u001b[43menv\u001b[49m\u001b[43m,\u001b[49m\u001b[43m \u001b[49m\u001b[43mstdout\u001b[49m\u001b[43m=\u001b[49m\u001b[43mPIPE\u001b[49m\u001b[43m,\u001b[49m\u001b[43m \u001b[49m\u001b[43mstderr\u001b[49m\u001b[43m=\u001b[49m\u001b[43mPIPE\u001b[49m\u001b[43m)\u001b[49m\n\u001b[32m    583\u001b[39m \u001b[38;5;28;01mtry\u001b[39;00m:\n",
      "\u001b[36mFile \u001b[39m\u001b[32m~\\AppData\\Roaming\\uv\\python\\cpython-3.12.9-windows-x86_64-none\\Lib\\subprocess.py:1028\u001b[39m, in \u001b[36mPopen.__init__\u001b[39m\u001b[34m(self, args, bufsize, executable, stdin, stdout, stderr, preexec_fn, close_fds, shell, cwd, env, universal_newlines, startupinfo, creationflags, restore_signals, start_new_session, pass_fds, user, group, extra_groups, encoding, errors, text, umask, pipesize, process_group)\u001b[39m\n\u001b[32m   1025\u001b[39m             \u001b[38;5;28mself\u001b[39m.stderr = io.TextIOWrapper(\u001b[38;5;28mself\u001b[39m.stderr,\n\u001b[32m   1026\u001b[39m                     encoding=encoding, errors=errors)\n\u001b[32m-> \u001b[39m\u001b[32m1028\u001b[39m     \u001b[38;5;28;43mself\u001b[39;49m\u001b[43m.\u001b[49m\u001b[43m_execute_child\u001b[49m\u001b[43m(\u001b[49m\u001b[43margs\u001b[49m\u001b[43m,\u001b[49m\u001b[43m \u001b[49m\u001b[43mexecutable\u001b[49m\u001b[43m,\u001b[49m\u001b[43m \u001b[49m\u001b[43mpreexec_fn\u001b[49m\u001b[43m,\u001b[49m\u001b[43m \u001b[49m\u001b[43mclose_fds\u001b[49m\u001b[43m,\u001b[49m\n\u001b[32m   1029\u001b[39m \u001b[43m                        \u001b[49m\u001b[43mpass_fds\u001b[49m\u001b[43m,\u001b[49m\u001b[43m \u001b[49m\u001b[43mcwd\u001b[49m\u001b[43m,\u001b[49m\u001b[43m \u001b[49m\u001b[43menv\u001b[49m\u001b[43m,\u001b[49m\n\u001b[32m   1030\u001b[39m \u001b[43m                        \u001b[49m\u001b[43mstartupinfo\u001b[49m\u001b[43m,\u001b[49m\u001b[43m \u001b[49m\u001b[43mcreationflags\u001b[49m\u001b[43m,\u001b[49m\u001b[43m \u001b[49m\u001b[43mshell\u001b[49m\u001b[43m,\u001b[49m\n\u001b[32m   1031\u001b[39m \u001b[43m                        \u001b[49m\u001b[43mp2cread\u001b[49m\u001b[43m,\u001b[49m\u001b[43m \u001b[49m\u001b[43mp2cwrite\u001b[49m\u001b[43m,\u001b[49m\n\u001b[32m   1032\u001b[39m \u001b[43m                        \u001b[49m\u001b[43mc2pread\u001b[49m\u001b[43m,\u001b[49m\u001b[43m \u001b[49m\u001b[43mc2pwrite\u001b[49m\u001b[43m,\u001b[49m\n\u001b[32m   1033\u001b[39m \u001b[43m                        \u001b[49m\u001b[43merrread\u001b[49m\u001b[43m,\u001b[49m\u001b[43m \u001b[49m\u001b[43merrwrite\u001b[49m\u001b[43m,\u001b[49m\n\u001b[32m   1034\u001b[39m \u001b[43m                        \u001b[49m\u001b[43mrestore_signals\u001b[49m\u001b[43m,\u001b[49m\n\u001b[32m   1035\u001b[39m \u001b[43m                        \u001b[49m\u001b[43mgid\u001b[49m\u001b[43m,\u001b[49m\u001b[43m \u001b[49m\u001b[43mgids\u001b[49m\u001b[43m,\u001b[49m\u001b[43m \u001b[49m\u001b[43muid\u001b[49m\u001b[43m,\u001b[49m\u001b[43m \u001b[49m\u001b[43mumask\u001b[49m\u001b[43m,\u001b[49m\n\u001b[32m   1036\u001b[39m \u001b[43m                        \u001b[49m\u001b[43mstart_new_session\u001b[49m\u001b[43m,\u001b[49m\u001b[43m \u001b[49m\u001b[43mprocess_group\u001b[49m\u001b[43m)\u001b[49m\n\u001b[32m   1037\u001b[39m \u001b[38;5;28;01mexcept\u001b[39;00m:\n\u001b[32m   1038\u001b[39m     \u001b[38;5;66;03m# Cleanup if the child failed starting.\u001b[39;00m\n",
      "\u001b[36mFile \u001b[39m\u001b[32m~\\AppData\\Roaming\\uv\\python\\cpython-3.12.9-windows-x86_64-none\\Lib\\subprocess.py:1540\u001b[39m, in \u001b[36mPopen._execute_child\u001b[39m\u001b[34m(self, args, executable, preexec_fn, close_fds, pass_fds, cwd, env, startupinfo, creationflags, shell, p2cread, p2cwrite, c2pread, c2pwrite, errread, errwrite, unused_restore_signals, unused_gid, unused_gids, unused_uid, unused_umask, unused_start_new_session, unused_process_group)\u001b[39m\n\u001b[32m   1539\u001b[39m \u001b[38;5;28;01mtry\u001b[39;00m:\n\u001b[32m-> \u001b[39m\u001b[32m1540\u001b[39m     hp, ht, pid, tid = \u001b[43m_winapi\u001b[49m\u001b[43m.\u001b[49m\u001b[43mCreateProcess\u001b[49m\u001b[43m(\u001b[49m\u001b[43mexecutable\u001b[49m\u001b[43m,\u001b[49m\u001b[43m \u001b[49m\u001b[43margs\u001b[49m\u001b[43m,\u001b[49m\n\u001b[32m   1541\u001b[39m \u001b[43m                             \u001b[49m\u001b[38;5;66;43;03m# no special security\u001b[39;49;00m\n\u001b[32m   1542\u001b[39m \u001b[43m                             \u001b[49m\u001b[38;5;28;43;01mNone\u001b[39;49;00m\u001b[43m,\u001b[49m\u001b[43m \u001b[49m\u001b[38;5;28;43;01mNone\u001b[39;49;00m\u001b[43m,\u001b[49m\n\u001b[32m   1543\u001b[39m \u001b[43m                             \u001b[49m\u001b[38;5;28;43mint\u001b[39;49m\u001b[43m(\u001b[49m\u001b[38;5;129;43;01mnot\u001b[39;49;00m\u001b[43m \u001b[49m\u001b[43mclose_fds\u001b[49m\u001b[43m)\u001b[49m\u001b[43m,\u001b[49m\n\u001b[32m   1544\u001b[39m \u001b[43m                             \u001b[49m\u001b[43mcreationflags\u001b[49m\u001b[43m,\u001b[49m\n\u001b[32m   1545\u001b[39m \u001b[43m                             \u001b[49m\u001b[43menv\u001b[49m\u001b[43m,\u001b[49m\n\u001b[32m   1546\u001b[39m \u001b[43m                             \u001b[49m\u001b[43mcwd\u001b[49m\u001b[43m,\u001b[49m\n\u001b[32m   1547\u001b[39m \u001b[43m                             \u001b[49m\u001b[43mstartupinfo\u001b[49m\u001b[43m)\u001b[49m\n\u001b[32m   1548\u001b[39m \u001b[38;5;28;01mfinally\u001b[39;00m:\n\u001b[32m   1549\u001b[39m     \u001b[38;5;66;03m# Child is launched. Close the parent's copy of those pipe\u001b[39;00m\n\u001b[32m   1550\u001b[39m     \u001b[38;5;66;03m# handles that only the child should have open.  You need\u001b[39;00m\n\u001b[32m   (...)\u001b[39m\u001b[32m   1553\u001b[39m     \u001b[38;5;66;03m# pipe will not close when the child process exits and the\u001b[39;00m\n\u001b[32m   1554\u001b[39m     \u001b[38;5;66;03m# ReadFile will hang.\u001b[39;00m\n",
      "\u001b[31mFileNotFoundError\u001b[39m: [WinError 2] The system cannot find the file specified",
      "\nDuring handling of the above exception, another exception occurred:\n",
      "\u001b[31mPDFInfoNotInstalledError\u001b[39m                  Traceback (most recent call last)",
      "\u001b[36mCell\u001b[39m\u001b[36m \u001b[39m\u001b[32mIn[130]\u001b[39m\u001b[32m, line 4\u001b[39m\n\u001b[32m      1\u001b[39m \u001b[38;5;28;01mfrom\u001b[39;00m\u001b[38;5;250m \u001b[39m\u001b[34;01munstructured\u001b[39;00m\u001b[34;01m.\u001b[39;00m\u001b[34;01mpartition\u001b[39;00m\u001b[34;01m.\u001b[39;00m\u001b[34;01mpdf\u001b[39;00m\u001b[38;5;250m \u001b[39m\u001b[38;5;28;01mimport\u001b[39;00m partition_pdf\n\u001b[32m      2\u001b[39m \u001b[38;5;28;01mfrom\u001b[39;00m\u001b[38;5;250m \u001b[39m\u001b[34;01mlangchain_core\u001b[39;00m\u001b[34;01m.\u001b[39;00m\u001b[34;01mdocuments\u001b[39;00m\u001b[38;5;250m \u001b[39m\u001b[38;5;28;01mimport\u001b[39;00m Document\n\u001b[32m----> \u001b[39m\u001b[32m4\u001b[39m elements = \u001b[43mpartition_pdf\u001b[49m\u001b[43m(\u001b[49m\u001b[43mfilename\u001b[49m\u001b[43m=\u001b[49m\u001b[33;43m\"\u001b[39;49m\u001b[33;43myour_file.pdf\u001b[39;49m\u001b[33;43m\"\u001b[39;49m\u001b[43m)\u001b[49m\n\u001b[32m      6\u001b[39m \u001b[38;5;66;03m# Build structured chunks\u001b[39;00m\n\u001b[32m      7\u001b[39m chunks = []\n",
      "\u001b[36mFile \u001b[39m\u001b[32mc:\\Users\\PC\\Documents\\genai-assignment\\.venv\\Lib\\site-packages\\unstructured\\documents\\elements.py:585\u001b[39m, in \u001b[36mprocess_metadata.<locals>.decorator.<locals>.wrapper\u001b[39m\u001b[34m(*args, **kwargs)\u001b[39m\n\u001b[32m    583\u001b[39m \u001b[38;5;129m@functools\u001b[39m.wraps(func)\n\u001b[32m    584\u001b[39m \u001b[38;5;28;01mdef\u001b[39;00m\u001b[38;5;250m \u001b[39m\u001b[34mwrapper\u001b[39m(*args: _P.args, **kwargs: _P.kwargs) -> \u001b[38;5;28mlist\u001b[39m[Element]:\n\u001b[32m--> \u001b[39m\u001b[32m585\u001b[39m     elements = \u001b[43mfunc\u001b[49m\u001b[43m(\u001b[49m\u001b[43m*\u001b[49m\u001b[43margs\u001b[49m\u001b[43m,\u001b[49m\u001b[43m \u001b[49m\u001b[43m*\u001b[49m\u001b[43m*\u001b[49m\u001b[43mkwargs\u001b[49m\u001b[43m)\u001b[49m\n\u001b[32m    586\u001b[39m     call_args = get_call_args_applying_defaults(func, *args, **kwargs)\n\u001b[32m    588\u001b[39m     unique_element_ids: \u001b[38;5;28mbool\u001b[39m = call_args.get(\u001b[33m\"\u001b[39m\u001b[33munique_element_ids\u001b[39m\u001b[33m\"\u001b[39m, \u001b[38;5;28;01mFalse\u001b[39;00m)\n",
      "\u001b[36mFile \u001b[39m\u001b[32mc:\\Users\\PC\\Documents\\genai-assignment\\.venv\\Lib\\site-packages\\unstructured\\file_utils\\filetype.py:816\u001b[39m, in \u001b[36madd_filetype.<locals>.decorator.<locals>.wrapper\u001b[39m\u001b[34m(*args, **kwargs)\u001b[39m\n\u001b[32m    814\u001b[39m \u001b[38;5;129m@functools\u001b[39m.wraps(func)\n\u001b[32m    815\u001b[39m \u001b[38;5;28;01mdef\u001b[39;00m\u001b[38;5;250m \u001b[39m\u001b[34mwrapper\u001b[39m(*args: _P.args, **kwargs: _P.kwargs) -> \u001b[38;5;28mlist\u001b[39m[Element]:\n\u001b[32m--> \u001b[39m\u001b[32m816\u001b[39m     elements = \u001b[43mfunc\u001b[49m\u001b[43m(\u001b[49m\u001b[43m*\u001b[49m\u001b[43margs\u001b[49m\u001b[43m,\u001b[49m\u001b[43m \u001b[49m\u001b[43m*\u001b[49m\u001b[43m*\u001b[49m\u001b[43mkwargs\u001b[49m\u001b[43m)\u001b[49m\n\u001b[32m    818\u001b[39m     \u001b[38;5;28;01mfor\u001b[39;00m element \u001b[38;5;129;01min\u001b[39;00m elements:\n\u001b[32m    819\u001b[39m         \u001b[38;5;66;03m# NOTE(robinson) - Attached files have already run through this logic\u001b[39;00m\n\u001b[32m    820\u001b[39m         \u001b[38;5;66;03m# in their own partitioning function\u001b[39;00m\n\u001b[32m    821\u001b[39m         \u001b[38;5;28;01mif\u001b[39;00m element.metadata.attached_to_filename \u001b[38;5;129;01mis\u001b[39;00m \u001b[38;5;28;01mNone\u001b[39;00m:\n",
      "\u001b[36mFile \u001b[39m\u001b[32mc:\\Users\\PC\\Documents\\genai-assignment\\.venv\\Lib\\site-packages\\unstructured\\file_utils\\filetype.py:774\u001b[39m, in \u001b[36madd_metadata.<locals>.wrapper\u001b[39m\u001b[34m(*args, **kwargs)\u001b[39m\n\u001b[32m    772\u001b[39m \u001b[38;5;129m@functools\u001b[39m.wraps(func)\n\u001b[32m    773\u001b[39m \u001b[38;5;28;01mdef\u001b[39;00m\u001b[38;5;250m \u001b[39m\u001b[34mwrapper\u001b[39m(*args: _P.args, **kwargs: _P.kwargs) -> \u001b[38;5;28mlist\u001b[39m[Element]:\n\u001b[32m--> \u001b[39m\u001b[32m774\u001b[39m     elements = \u001b[43mfunc\u001b[49m\u001b[43m(\u001b[49m\u001b[43m*\u001b[49m\u001b[43margs\u001b[49m\u001b[43m,\u001b[49m\u001b[43m \u001b[49m\u001b[43m*\u001b[49m\u001b[43m*\u001b[49m\u001b[43mkwargs\u001b[49m\u001b[43m)\u001b[49m\n\u001b[32m    775\u001b[39m     call_args = get_call_args_applying_defaults(func, *args, **kwargs)\n\u001b[32m    777\u001b[39m     \u001b[38;5;28;01mif\u001b[39;00m call_args.get(\u001b[33m\"\u001b[39m\u001b[33mmetadata_filename\u001b[39m\u001b[33m\"\u001b[39m):\n",
      "\u001b[36mFile \u001b[39m\u001b[32mc:\\Users\\PC\\Documents\\genai-assignment\\.venv\\Lib\\site-packages\\unstructured\\chunking\\dispatch.py:74\u001b[39m, in \u001b[36madd_chunking_strategy.<locals>.wrapper\u001b[39m\u001b[34m(*args, **kwargs)\u001b[39m\n\u001b[32m     71\u001b[39m \u001b[38;5;250m\u001b[39m\u001b[33;03m\"\"\"The decorated function is replaced with this one.\"\"\"\u001b[39;00m\n\u001b[32m     73\u001b[39m \u001b[38;5;66;03m# -- call the partitioning function to get the elements --\u001b[39;00m\n\u001b[32m---> \u001b[39m\u001b[32m74\u001b[39m elements = \u001b[43mfunc\u001b[49m\u001b[43m(\u001b[49m\u001b[43m*\u001b[49m\u001b[43margs\u001b[49m\u001b[43m,\u001b[49m\u001b[43m \u001b[49m\u001b[43m*\u001b[49m\u001b[43m*\u001b[49m\u001b[43mkwargs\u001b[49m\u001b[43m)\u001b[49m\n\u001b[32m     76\u001b[39m \u001b[38;5;66;03m# -- look for a chunking-strategy argument --\u001b[39;00m\n\u001b[32m     77\u001b[39m call_args = get_call_args_applying_defaults(func, *args, **kwargs)\n",
      "\u001b[36mFile \u001b[39m\u001b[32mc:\\Users\\PC\\Documents\\genai-assignment\\.venv\\Lib\\site-packages\\unstructured\\partition\\pdf.py:228\u001b[39m, in \u001b[36mpartition_pdf\u001b[39m\u001b[34m(filename, file, include_page_breaks, strategy, infer_table_structure, ocr_languages, languages, metadata_filename, metadata_last_modified, chunking_strategy, hi_res_model_name, extract_images_in_pdf, extract_image_block_types, extract_image_block_output_dir, extract_image_block_to_payload, starting_page_number, extract_forms, form_extraction_skip_tables, password, pdfminer_line_margin, pdfminer_char_margin, pdfminer_line_overlap, pdfminer_word_margin, **kwargs)\u001b[39m\n\u001b[32m    225\u001b[39m exactly_one(filename=filename, file=file)\n\u001b[32m    227\u001b[39m languages = check_language_args(languages \u001b[38;5;129;01mor\u001b[39;00m [], ocr_languages)\n\u001b[32m--> \u001b[39m\u001b[32m228\u001b[39m \u001b[38;5;28;01mreturn\u001b[39;00m \u001b[43mpartition_pdf_or_image\u001b[49m\u001b[43m(\u001b[49m\n\u001b[32m    229\u001b[39m \u001b[43m    \u001b[49m\u001b[43mfilename\u001b[49m\u001b[43m=\u001b[49m\u001b[43mfilename\u001b[49m\u001b[43m,\u001b[49m\n\u001b[32m    230\u001b[39m \u001b[43m    \u001b[49m\u001b[43mfile\u001b[49m\u001b[43m=\u001b[49m\u001b[43mfile\u001b[49m\u001b[43m,\u001b[49m\n\u001b[32m    231\u001b[39m \u001b[43m    \u001b[49m\u001b[43minclude_page_breaks\u001b[49m\u001b[43m=\u001b[49m\u001b[43minclude_page_breaks\u001b[49m\u001b[43m,\u001b[49m\n\u001b[32m    232\u001b[39m \u001b[43m    \u001b[49m\u001b[43mstrategy\u001b[49m\u001b[43m=\u001b[49m\u001b[43mstrategy\u001b[49m\u001b[43m,\u001b[49m\n\u001b[32m    233\u001b[39m \u001b[43m    \u001b[49m\u001b[43minfer_table_structure\u001b[49m\u001b[43m=\u001b[49m\u001b[43minfer_table_structure\u001b[49m\u001b[43m,\u001b[49m\n\u001b[32m    234\u001b[39m \u001b[43m    \u001b[49m\u001b[43mlanguages\u001b[49m\u001b[43m=\u001b[49m\u001b[43mlanguages\u001b[49m\u001b[43m,\u001b[49m\n\u001b[32m    235\u001b[39m \u001b[43m    \u001b[49m\u001b[43mmetadata_last_modified\u001b[49m\u001b[43m=\u001b[49m\u001b[43mmetadata_last_modified\u001b[49m\u001b[43m,\u001b[49m\n\u001b[32m    236\u001b[39m \u001b[43m    \u001b[49m\u001b[43mhi_res_model_name\u001b[49m\u001b[43m=\u001b[49m\u001b[43mhi_res_model_name\u001b[49m\u001b[43m,\u001b[49m\n\u001b[32m    237\u001b[39m \u001b[43m    \u001b[49m\u001b[43mextract_images_in_pdf\u001b[49m\u001b[43m=\u001b[49m\u001b[43mextract_images_in_pdf\u001b[49m\u001b[43m,\u001b[49m\n\u001b[32m    238\u001b[39m \u001b[43m    \u001b[49m\u001b[43mextract_image_block_types\u001b[49m\u001b[43m=\u001b[49m\u001b[43mextract_image_block_types\u001b[49m\u001b[43m,\u001b[49m\n\u001b[32m    239\u001b[39m \u001b[43m    \u001b[49m\u001b[43mextract_image_block_output_dir\u001b[49m\u001b[43m=\u001b[49m\u001b[43mextract_image_block_output_dir\u001b[49m\u001b[43m,\u001b[49m\n\u001b[32m    240\u001b[39m \u001b[43m    \u001b[49m\u001b[43mextract_image_block_to_payload\u001b[49m\u001b[43m=\u001b[49m\u001b[43mextract_image_block_to_payload\u001b[49m\u001b[43m,\u001b[49m\n\u001b[32m    241\u001b[39m \u001b[43m    \u001b[49m\u001b[43mstarting_page_number\u001b[49m\u001b[43m=\u001b[49m\u001b[43mstarting_page_number\u001b[49m\u001b[43m,\u001b[49m\n\u001b[32m    242\u001b[39m \u001b[43m    \u001b[49m\u001b[43mextract_forms\u001b[49m\u001b[43m=\u001b[49m\u001b[43mextract_forms\u001b[49m\u001b[43m,\u001b[49m\n\u001b[32m    243\u001b[39m \u001b[43m    \u001b[49m\u001b[43mform_extraction_skip_tables\u001b[49m\u001b[43m=\u001b[49m\u001b[43mform_extraction_skip_tables\u001b[49m\u001b[43m,\u001b[49m\n\u001b[32m    244\u001b[39m \u001b[43m    \u001b[49m\u001b[43mpassword\u001b[49m\u001b[43m=\u001b[49m\u001b[43mpassword\u001b[49m\u001b[43m,\u001b[49m\n\u001b[32m    245\u001b[39m \u001b[43m    \u001b[49m\u001b[43mpdfminer_line_margin\u001b[49m\u001b[43m=\u001b[49m\u001b[43mpdfminer_line_margin\u001b[49m\u001b[43m,\u001b[49m\n\u001b[32m    246\u001b[39m \u001b[43m    \u001b[49m\u001b[43mpdfminer_char_margin\u001b[49m\u001b[43m=\u001b[49m\u001b[43mpdfminer_char_margin\u001b[49m\u001b[43m,\u001b[49m\n\u001b[32m    247\u001b[39m \u001b[43m    \u001b[49m\u001b[43mpdfminer_line_overlap\u001b[49m\u001b[43m=\u001b[49m\u001b[43mpdfminer_line_overlap\u001b[49m\u001b[43m,\u001b[49m\n\u001b[32m    248\u001b[39m \u001b[43m    \u001b[49m\u001b[43mpdfminer_word_margin\u001b[49m\u001b[43m=\u001b[49m\u001b[43mpdfminer_word_margin\u001b[49m\u001b[43m,\u001b[49m\n\u001b[32m    249\u001b[39m \u001b[43m    \u001b[49m\u001b[43m*\u001b[49m\u001b[43m*\u001b[49m\u001b[43mkwargs\u001b[49m\u001b[43m,\u001b[49m\n\u001b[32m    250\u001b[39m \u001b[43m\u001b[49m\u001b[43m)\u001b[49m\n",
      "\u001b[36mFile \u001b[39m\u001b[32mc:\\Users\\PC\\Documents\\genai-assignment\\.venv\\Lib\\site-packages\\unstructured\\partition\\pdf.py:379\u001b[39m, in \u001b[36mpartition_pdf_or_image\u001b[39m\u001b[34m(filename, file, is_image, include_page_breaks, strategy, infer_table_structure, languages, metadata_last_modified, hi_res_model_name, extract_images_in_pdf, extract_image_block_types, extract_image_block_output_dir, extract_image_block_to_payload, starting_page_number, extract_forms, form_extraction_skip_tables, password, pdfminer_line_margin, pdfminer_char_margin, pdfminer_line_overlap, pdfminer_word_margin, ocr_agent, table_ocr_agent, **kwargs)\u001b[39m\n\u001b[32m    376\u001b[39m \u001b[38;5;28;01melif\u001b[39;00m strategy == PartitionStrategy.OCR_ONLY:\n\u001b[32m    377\u001b[39m     \u001b[38;5;66;03m# NOTE(robinson): Catches file conversion warnings when running with PDFs\u001b[39;00m\n\u001b[32m    378\u001b[39m     \u001b[38;5;28;01mwith\u001b[39;00m warnings.catch_warnings():\n\u001b[32m--> \u001b[39m\u001b[32m379\u001b[39m         elements = \u001b[43m_partition_pdf_or_image_with_ocr\u001b[49m\u001b[43m(\u001b[49m\n\u001b[32m    380\u001b[39m \u001b[43m            \u001b[49m\u001b[43mfilename\u001b[49m\u001b[43m=\u001b[49m\u001b[43mfilename\u001b[49m\u001b[43m,\u001b[49m\n\u001b[32m    381\u001b[39m \u001b[43m            \u001b[49m\u001b[43mfile\u001b[49m\u001b[43m=\u001b[49m\u001b[43mfile\u001b[49m\u001b[43m,\u001b[49m\n\u001b[32m    382\u001b[39m \u001b[43m            \u001b[49m\u001b[43minclude_page_breaks\u001b[49m\u001b[43m=\u001b[49m\u001b[43minclude_page_breaks\u001b[49m\u001b[43m,\u001b[49m\n\u001b[32m    383\u001b[39m \u001b[43m            \u001b[49m\u001b[43mlanguages\u001b[49m\u001b[43m=\u001b[49m\u001b[43mlanguages\u001b[49m\u001b[43m,\u001b[49m\n\u001b[32m    384\u001b[39m \u001b[43m            \u001b[49m\u001b[43mocr_languages\u001b[49m\u001b[43m=\u001b[49m\u001b[43mocr_languages\u001b[49m\u001b[43m,\u001b[49m\n\u001b[32m    385\u001b[39m \u001b[43m            \u001b[49m\u001b[43mis_image\u001b[49m\u001b[43m=\u001b[49m\u001b[43mis_image\u001b[49m\u001b[43m,\u001b[49m\n\u001b[32m    386\u001b[39m \u001b[43m            \u001b[49m\u001b[43mmetadata_last_modified\u001b[49m\u001b[43m=\u001b[49m\u001b[43mmetadata_last_modified\u001b[49m\u001b[43m \u001b[49m\u001b[38;5;129;43;01mor\u001b[39;49;00m\u001b[43m \u001b[49m\u001b[43mlast_modified\u001b[49m\u001b[43m,\u001b[49m\n\u001b[32m    387\u001b[39m \u001b[43m            \u001b[49m\u001b[43mstarting_page_number\u001b[49m\u001b[43m=\u001b[49m\u001b[43mstarting_page_number\u001b[49m\u001b[43m,\u001b[49m\n\u001b[32m    388\u001b[39m \u001b[43m            \u001b[49m\u001b[43mpassword\u001b[49m\u001b[43m=\u001b[49m\u001b[43mpassword\u001b[49m\u001b[43m,\u001b[49m\n\u001b[32m    389\u001b[39m \u001b[43m            \u001b[49m\u001b[43m*\u001b[49m\u001b[43m*\u001b[49m\u001b[43mkwargs\u001b[49m\u001b[43m,\u001b[49m\n\u001b[32m    390\u001b[39m \u001b[43m        \u001b[49m\u001b[43m)\u001b[49m\n\u001b[32m    391\u001b[39m         out_elements = _process_uncategorized_text_elements(elements)\n\u001b[32m    393\u001b[39m \u001b[38;5;28;01mreturn\u001b[39;00m out_elements\n",
      "\u001b[36mFile \u001b[39m\u001b[32mc:\\Users\\PC\\Documents\\genai-assignment\\.venv\\Lib\\site-packages\\unstructured\\partition\\pdf.py:931\u001b[39m, in \u001b[36m_partition_pdf_or_image_with_ocr\u001b[39m\u001b[34m(filename, file, include_page_breaks, languages, ocr_languages, is_image, metadata_last_modified, starting_page_number, password, **kwargs)\u001b[39m\n\u001b[32m    929\u001b[39m         elements.extend(page_elements)\n\u001b[32m    930\u001b[39m \u001b[38;5;28;01melse\u001b[39;00m:\n\u001b[32m--> \u001b[39m\u001b[32m931\u001b[39m \u001b[43m    \u001b[49m\u001b[38;5;28;43;01mfor\u001b[39;49;00m\u001b[43m \u001b[49m\u001b[43mpage_number\u001b[49m\u001b[43m,\u001b[49m\u001b[43m \u001b[49m\u001b[43mimage\u001b[49m\u001b[43m \u001b[49m\u001b[38;5;129;43;01min\u001b[39;49;00m\u001b[43m \u001b[49m\u001b[38;5;28;43menumerate\u001b[39;49m\u001b[43m(\u001b[49m\n\u001b[32m    932\u001b[39m \u001b[43m        \u001b[49m\u001b[43mconvert_pdf_to_images\u001b[49m\u001b[43m(\u001b[49m\u001b[43mfilename\u001b[49m\u001b[43m,\u001b[49m\u001b[43m \u001b[49m\u001b[43mfile\u001b[49m\u001b[43m,\u001b[49m\u001b[43m \u001b[49m\u001b[43mpassword\u001b[49m\u001b[43m=\u001b[49m\u001b[43mpassword\u001b[49m\u001b[43m)\u001b[49m\u001b[43m,\u001b[49m\u001b[43m \u001b[49m\u001b[43mstart\u001b[49m\u001b[43m=\u001b[49m\u001b[43mstarting_page_number\u001b[49m\n\u001b[32m    933\u001b[39m \u001b[43m    \u001b[49m\u001b[43m)\u001b[49m\u001b[43m:\u001b[49m\n\u001b[32m    934\u001b[39m \u001b[43m        \u001b[49m\u001b[43mpage_elements\u001b[49m\u001b[43m \u001b[49m\u001b[43m=\u001b[49m\u001b[43m \u001b[49m\u001b[43m_partition_pdf_or_image_with_ocr_from_image\u001b[49m\u001b[43m(\u001b[49m\n\u001b[32m    935\u001b[39m \u001b[43m            \u001b[49m\u001b[43mimage\u001b[49m\u001b[43m=\u001b[49m\u001b[43mimage\u001b[49m\u001b[43m,\u001b[49m\n\u001b[32m    936\u001b[39m \u001b[43m            \u001b[49m\u001b[43mlanguages\u001b[49m\u001b[43m=\u001b[49m\u001b[43mlanguages\u001b[49m\u001b[43m,\u001b[49m\n\u001b[32m   (...)\u001b[39m\u001b[32m    941\u001b[39m \u001b[43m            \u001b[49m\u001b[43m*\u001b[49m\u001b[43m*\u001b[49m\u001b[43mkwargs\u001b[49m\u001b[43m,\u001b[49m\n\u001b[32m    942\u001b[39m \u001b[43m        \u001b[49m\u001b[43m)\u001b[49m\n\u001b[32m    943\u001b[39m \u001b[43m        \u001b[49m\u001b[43melements\u001b[49m\u001b[43m.\u001b[49m\u001b[43mextend\u001b[49m\u001b[43m(\u001b[49m\u001b[43mpage_elements\u001b[49m\u001b[43m)\u001b[49m\n",
      "\u001b[36mFile \u001b[39m\u001b[32mc:\\Users\\PC\\Documents\\genai-assignment\\.venv\\Lib\\site-packages\\unstructured\\partition\\pdf_image\\pdf_image_utils.py:407\u001b[39m, in \u001b[36mconvert_pdf_to_images\u001b[39m\u001b[34m(filename, file, chunk_size, password)\u001b[39m\n\u001b[32m    405\u001b[39m \u001b[38;5;28;01melse\u001b[39;00m:\n\u001b[32m    406\u001b[39m     f_bytes = \u001b[38;5;28;01mNone\u001b[39;00m\n\u001b[32m--> \u001b[39m\u001b[32m407\u001b[39m     info = \u001b[43mpdf2image\u001b[49m\u001b[43m.\u001b[49m\u001b[43mpdfinfo_from_path\u001b[49m\u001b[43m(\u001b[49m\u001b[43mfilename\u001b[49m\u001b[43m,\u001b[49m\u001b[43m \u001b[49m\u001b[43muserpw\u001b[49m\u001b[43m=\u001b[49m\u001b[43mpassword\u001b[49m\u001b[43m)\u001b[49m\n\u001b[32m    409\u001b[39m total_pages = info[\u001b[33m\"\u001b[39m\u001b[33mPages\u001b[39m\u001b[33m\"\u001b[39m]\n\u001b[32m    410\u001b[39m \u001b[38;5;28;01mfor\u001b[39;00m start_page \u001b[38;5;129;01min\u001b[39;00m \u001b[38;5;28mrange\u001b[39m(\u001b[32m1\u001b[39m, total_pages + \u001b[32m1\u001b[39m, chunk_size):\n",
      "\u001b[36mFile \u001b[39m\u001b[32mc:\\Users\\PC\\Documents\\genai-assignment\\.venv\\Lib\\site-packages\\pdf2image\\pdf2image.py:607\u001b[39m, in \u001b[36mpdfinfo_from_path\u001b[39m\u001b[34m(pdf_path, userpw, ownerpw, poppler_path, rawdates, timeout, first_page, last_page)\u001b[39m\n\u001b[32m    604\u001b[39m     \u001b[38;5;28;01mreturn\u001b[39;00m d\n\u001b[32m    606\u001b[39m \u001b[38;5;28;01mexcept\u001b[39;00m \u001b[38;5;167;01mOSError\u001b[39;00m:\n\u001b[32m--> \u001b[39m\u001b[32m607\u001b[39m     \u001b[38;5;28;01mraise\u001b[39;00m PDFInfoNotInstalledError(\n\u001b[32m    608\u001b[39m         \u001b[33m\"\u001b[39m\u001b[33mUnable to get page count. Is poppler installed and in PATH?\u001b[39m\u001b[33m\"\u001b[39m\n\u001b[32m    609\u001b[39m     )\n\u001b[32m    610\u001b[39m \u001b[38;5;28;01mexcept\u001b[39;00m \u001b[38;5;167;01mValueError\u001b[39;00m:\n\u001b[32m    611\u001b[39m     \u001b[38;5;28;01mraise\u001b[39;00m PDFPageCountError(\n\u001b[32m    612\u001b[39m         \u001b[33mf\u001b[39m\u001b[33m\"\u001b[39m\u001b[33mUnable to get page count.\u001b[39m\u001b[38;5;130;01m\\n\u001b[39;00m\u001b[38;5;132;01m{\u001b[39;00merr.decode(\u001b[33m'\u001b[39m\u001b[33mutf8\u001b[39m\u001b[33m'\u001b[39m,\u001b[38;5;250m \u001b[39m\u001b[33m'\u001b[39m\u001b[33mignore\u001b[39m\u001b[33m'\u001b[39m)\u001b[38;5;132;01m}\u001b[39;00m\u001b[33m\"\u001b[39m\n\u001b[32m    613\u001b[39m     )\n",
      "\u001b[31mPDFInfoNotInstalledError\u001b[39m: Unable to get page count. Is poppler installed and in PATH?"
     ]
    }
   ],
   "source": [
    "from unstructured.partition.pdf import partition_pdf\n",
    "from langchain_core.documents import Document\n",
    "\n",
    "elements = partition_pdf(filename=\"your_file.pdf\")\n",
    "\n",
    "# Build structured chunks\n",
    "chunks = []\n",
    "current_chunk = \"\"\n",
    "current_header = \"\"\n",
    "for el in elements:\n",
    "    if el.category in [\"Title\", \"Header\", \"Subheader\"]:\n",
    "        if current_chunk:\n",
    "            chunks.append(Document(\n",
    "                page_content=current_chunk.strip(),\n",
    "                metadata={\"header\": current_header}\n",
    "            ))\n",
    "            current_chunk = \"\"\n",
    "        current_header = el.text\n",
    "    else:\n",
    "        current_chunk += el.text + \"\\n\"\n",
    "\n",
    "# Last chunk\n",
    "if current_chunk:\n",
    "    chunks.append(Document(\n",
    "        page_content=current_chunk.strip(),\n",
    "        metadata={\"header\": current_header}\n",
    "    ))\n",
    "\n",
    "# Output\n",
    "for i, chunk in enumerate(chunks):\n",
    "    print(f\"\\n--- Chunk {i+1} ---\")\n",
    "    print(\"Header:\", chunk.metadata[\"header\"])\n",
    "    print(chunk.page_content[:300])\n"
   ]
  },
  {
   "cell_type": "code",
   "execution_count": 131,
   "id": "1407772e",
   "metadata": {},
   "outputs": [],
   "source": [
    "from langchain_community.document_loaders import PyPDFLoader\n",
    "\n",
    "loader = PyPDFLoader(\"./data/Dummy_Return_Policy.pdf\")"
   ]
  },
  {
   "cell_type": "code",
   "execution_count": 136,
   "id": "9927a3c9",
   "metadata": {},
   "outputs": [],
   "source": [
    "pages = []\n",
    "for page in loader.lazy_load():\n",
    "    pages.append(page)"
   ]
  },
  {
   "cell_type": "code",
   "execution_count": 138,
   "id": "fcda2fa7",
   "metadata": {},
   "outputs": [
    {
     "data": {
      "text/plain": [
       "'Return Policy for E-commerce Platform \\n1. Overview \\nThis return policy outlines the terms and conditions under which customers may return \\nproducts purchased from our e-commerce platform. Our aim is to provide a transparent and \\nfair return process that ensures customer satisfaction while maintaining operational \\nefficiency. Customers are encouraged to review this policy before making a return request. \\n2. Eligibility for Returns \\n2.1 Timeframe \\nReturns must be initiated within 30 calendar days from the date of delivery. This timeframe \\nensures the returned items remain in good condition and helps us maintain inventory \\naccuracy. Requests made after this period may not be accepted, unless mandated by \\nconsumer protection laws or exceptional cases such as shipping delays or product recalls. \\n2.2 Condition of Items \\nReturned items must be unused, undamaged, and in a condition suitable for resale. Items \\nshould be returned with the original packaging, including boxes, tags, manuals, and any \\nincluded accessories. Products showing signs of wear, usage, or modification may not be \\neligible for a full refund. \\n2.3 Non-returnable Items \\nCertain items are excluded from our return policy due to their nature or regulatory \\nlimitations. These include: \\n- Perishable goods such as food and flowers, which cannot be restocked. \\n- Personalized or custom-made products, unless they are defective or damaged upon arrival. \\n- Gift cards, which are considered final sale items. \\n- Downloadable digital products or software, due to licensing restrictions. \\n3. Return Process \\n3.1 Initiating a Return \\nCustomers can initiate a return by accessing our online return portal through their account \\ndashboard or by contacting our customer support agent via voice or chat. Upon verification, \\nthe agent will guide the customer through the steps required to submit a return request. \\n3.2 Information Required \\nTo process a return efficiently, customers must provide the following details: \\n- The unique order number associated with the purchase.'"
      ]
     },
     "execution_count": 138,
     "metadata": {},
     "output_type": "execute_result"
    }
   ],
   "source": [
    "pages[0].page_content"
   ]
  },
  {
   "cell_type": "code",
   "execution_count": 150,
   "id": "beeb4fd3",
   "metadata": {},
   "outputs": [],
   "source": [
    "def rag_retriver(query: str):\n",
    "    \"\"\"\n",
    "    Use this tool to retrieve relevant documents from the knowledge base.\n",
    "    \"\"\"\n",
    "    embedding_model = OpenAIEmbeddings()\n",
    "    vectordb = Chroma(persist_directory=\"./data/chroma_store\", embedding_function=embedding_model)\n",
    "    retriever = vectordb.as_retriever(search_kwargs={\"k\": 5})\n",
    "    results = retriever.get_relevant_documents(query)\n",
    "    results = [results[i].page_content for i in range(len(results))]\n",
    "    return results"
   ]
  },
  {
   "cell_type": "code",
   "execution_count": 151,
   "id": "dc0fcb9e",
   "metadata": {},
   "outputs": [
    {
     "name": "stderr",
     "output_type": "stream",
     "text": [
      "INFO: HTTP Request: POST https://api.openai.com/v1/embeddings \"HTTP/1.1 200 OK\"\n"
     ]
    },
    {
     "name": "stdout",
     "output_type": "stream",
     "text": [
      "['accuracy. Requests made after this period may not be accepted, unless mandated by \\nconsumer protection laws or exceptional cases such as shipping delays or product recalls. \\n2.2 Condition of Items \\nReturned items must be unused, undamaged, and in a condition suitable for resale. Items \\nshould be returned with the original packaging, including boxes, tags, manuals, and any \\nincluded accessories. Products showing signs of wear, usage, or modification may not be \\neligible for a full refund. \\n2.3 Non-returnable Items \\nCertain items are excluded from our return policy due to their nature or regulatory \\nlimitations. These include:', '- Perishable goods such as food and flowers, which cannot be restocked. \\n- Personalized or custom-made products, unless they are defective or damaged upon arrival. \\n- Gift cards, which are considered final sale items. \\n- Downloadable digital products or software, due to licensing restrictions. \\n3. Return Process \\n3.1 Initiating a Return \\nCustomers can initiate a return by accessing our online return portal through their account \\ndashboard or by contacting our customer support agent via voice or chat. Upon verification, \\nthe agent will guide the customer through the steps required to submit a return request. \\n3.2 Information Required', '2.2 Condition of Items \\nReturned items must be unused, undamaged, and in a condition suitable for resale. Items \\nshould be returned with the original packaging, including boxes, tags, manuals, and any \\nincluded accessories. Products showing signs of wear, usage, or modification may not be \\neligible for a full refund. \\n2.3 Non-returnable Items \\nCertain items are excluded from our return policy due to their nature or regulatory \\nlimitations. These include:', 'limitations. These include: \\n- Perishable goods such as food and flowers, which cannot be restocked. \\n- Personalized or custom-made products, unless they are defective or damaged upon arrival. \\n- Gift cards, which are considered final sale items. \\n- Downloadable digital products or software, due to licensing restrictions. \\n3. Return Process \\n3.1 Initiating a Return \\nCustomers can initiate a return by accessing our online return portal through their account', 'refund or paid upfront, depending on the return method chosen. \\n7. Contact Information \\nFor further assistance or questions about the return policy, customers are encouraged to \\ncontact our customer service team:']\n"
     ]
    }
   ],
   "source": [
    "results = rag_retriver(\"non-returnable?\")\n",
    "print(results)"
   ]
  },
  {
   "cell_type": "code",
   "execution_count": 144,
   "id": "c3a0449f",
   "metadata": {},
   "outputs": [
    {
     "data": {
      "text/plain": [
       "['accuracy. Requests made after this period may not be accepted, unless mandated by \\nconsumer protection laws or exceptional cases such as shipping delays or product recalls. \\n2.2 Condition of Items \\nReturned items must be unused, undamaged, and in a condition suitable for resale. Items \\nshould be returned with the original packaging, including boxes, tags, manuals, and any \\nincluded accessories. Products showing signs of wear, usage, or modification may not be \\neligible for a full refund. \\n2.3 Non-returnable Items \\nCertain items are excluded from our return policy due to their nature or regulatory \\nlimitations. These include:',\n",
       " '- Perishable goods such as food and flowers, which cannot be restocked. \\n- Personalized or custom-made products, unless they are defective or damaged upon arrival. \\n- Gift cards, which are considered final sale items. \\n- Downloadable digital products or software, due to licensing restrictions. \\n3. Return Process \\n3.1 Initiating a Return \\nCustomers can initiate a return by accessing our online return portal through their account \\ndashboard or by contacting our customer support agent via voice or chat. Upon verification, \\nthe agent will guide the customer through the steps required to submit a return request. \\n3.2 Information Required']"
      ]
     },
     "execution_count": 144,
     "metadata": {},
     "output_type": "execute_result"
    }
   ],
   "source": [
    "[results[i].page_content for i in range(len(results))]"
   ]
  },
  {
   "cell_type": "code",
   "execution_count": null,
   "id": "cd3b9eb1",
   "metadata": {},
   "outputs": [],
   "source": []
  }
 ],
 "metadata": {
  "kernelspec": {
   "display_name": ".venv",
   "language": "python",
   "name": "python3"
  },
  "language_info": {
   "codemirror_mode": {
    "name": "ipython",
    "version": 3
   },
   "file_extension": ".py",
   "mimetype": "text/x-python",
   "name": "python",
   "nbconvert_exporter": "python",
   "pygments_lexer": "ipython3",
   "version": "3.12.9"
  }
 },
 "nbformat": 4,
 "nbformat_minor": 5
}
